{
 "cells": [
  {
   "cell_type": "markdown",
   "metadata": {},
   "source": [
    "# Assignment 1, Preliminaries "
   ]
  },
  {
   "cell_type": "markdown",
   "metadata": {},
   "source": [
    "Turn the following expressions into tensor operations, replace any python for loop. Print the output and compare it to the sequential computation. \n",
    "\n",
    "**Hint:** Make yourself familiar with the following operations: ```torch.abs, torch.sum, torch.mean, torch.exp, torch.sqrt, torch.linspace``` and ```tensor.permute, tensor.repeat, tensor.unsqueeze```, where thensor is a ```torch.FloatTensor()```."
   ]
  },
  {
   "cell_type": "code",
   "execution_count": 1,
   "metadata": {},
   "outputs": [],
   "source": [
    "# imports (nothing to do here)\n",
    "import torch\n",
    "import math\n",
    "import matplotlib.pyplot as plt\n",
    "prediction = torch.FloatTensor([0.2,0.5,-1,0.9,5])\n",
    "label      = torch.FloatTensor([0.19,0.4,-1.1,0.9,4.99])"
   ]
  },
  {
   "cell_type": "markdown",
   "metadata": {},
   "source": [
    "### Mean absolute error (MAE) computation"
   ]
  },
  {
   "cell_type": "code",
   "execution_count": 2,
   "metadata": {},
   "outputs": [
    {
     "name": "stdout",
     "output_type": "stream",
     "text": [
      "tensor(0.0440)\n"
     ]
    }
   ],
   "source": [
    "MAE = 0\n",
    "for i in range(len(prediction)):\n",
    "    MAE += torch.abs(prediction[i]-label[i])\n",
    "MAE /= len(prediction)\n",
    "print(MAE)"
   ]
  },
  {
   "cell_type": "code",
   "execution_count": 3,
   "metadata": {},
   "outputs": [],
   "source": [
    "# tensor SOLUTION"
   ]
  },
  {
   "cell_type": "markdown",
   "metadata": {},
   "source": [
    "### Mean squared error "
   ]
  },
  {
   "cell_type": "code",
   "execution_count": 4,
   "metadata": {},
   "outputs": [
    {
     "name": "stdout",
     "output_type": "stream",
     "text": [
      "tensor(0.0040)\n"
     ]
    }
   ],
   "source": [
    "MSE = 0\n",
    "for i in range(len(prediction)):\n",
    "    MSE += (prediction[i]-label[i])**2\n",
    "MSE /= len(prediction)\n",
    "print(MSE)"
   ]
  },
  {
   "cell_type": "code",
   "execution_count": 5,
   "metadata": {},
   "outputs": [],
   "source": [
    "# tensor SOLUTION"
   ]
  },
  {
   "cell_type": "markdown",
   "metadata": {},
   "source": [
    "### 1D polynomial evaluation"
   ]
  },
  {
   "cell_type": "code",
   "execution_count": 6,
   "metadata": {},
   "outputs": [
    {
     "name": "stdout",
     "output_type": "stream",
     "text": [
      "tensor([0.1000, 0.3959, 0.7122, 1.0490, 1.4061, 1.7837, 2.1816, 2.6000])\n"
     ]
    }
   ],
   "source": [
    "a = 0.1\n",
    "b = 2\n",
    "c = 0.5\n",
    "f_of_x = []\n",
    "x_list = torch.linspace(0,1,8)\n",
    "for x in x_list:\n",
    "    f_of_x.append(a + b*x + c*(x**2))\n",
    "f_of_x = torch.FloatTensor(f_of_x)\n",
    "print(f_of_x)"
   ]
  },
  {
   "cell_type": "code",
   "execution_count": 7,
   "metadata": {},
   "outputs": [],
   "source": [
    "# tensor SOLUTION"
   ]
  },
  {
   "cell_type": "markdown",
   "metadata": {},
   "source": [
    "### 2D Gaussian function"
   ]
  },
  {
   "cell_type": "code",
   "execution_count": 8,
   "metadata": {},
   "outputs": [
    {
     "data": {
      "text/plain": [
       "<matplotlib.image.AxesImage at 0x24ba937c080>"
      ]
     },
     "execution_count": 8,
     "metadata": {},
     "output_type": "execute_result"
    },
    {
     "data": {
      "image/png": "[encoded data removed]",
      "text/plain": [
       "<Figure size 288x288 with 1 Axes>"
      ]
     },
     "metadata": {
      "needs_background": "light"
     },
     "output_type": "display_data"
    }
   ],
   "source": [
    "mu_x = 0.1\n",
    "mu_y = 0.5\n",
    "sigma = 0.1\n",
    "x_list = torch.linspace(0,1,8)\n",
    "y_list = torch.linspace(0,1,8)\n",
    "f_of_x = torch.FloatTensor(8,8)\n",
    "for i,x in enumerate(x_list):\n",
    "    for j,y in enumerate(y_list):\n",
    "        d = (x-mu_x)**2 + (y-mu_y)**2\n",
    "        c = 1/math.sqrt(2*math.pi)\n",
    "        f_of_x[j,i] = c*torch.exp(-d/(2*sigma))\n",
    "plt.matshow(f_of_x)"
   ]
  },
  {
   "cell_type": "code",
   "execution_count": 9,
   "metadata": {},
   "outputs": [],
   "source": [
    "# tensor SOLUTION"
   ]
  },
  {
   "cell_type": "markdown",
   "metadata": {},
   "source": [
    "Finally, use GPU computation (requires to run on a cuda capable machine with cuda installed) to turn the same operation on the GPU. Simply update your solution in the cell above. Compare the CPU and GPU output, is it the same? Up to what precision?"
   ]
  },
  {
   "cell_type": "code",
   "execution_count": 10,
   "metadata": {},
   "outputs": [],
   "source": [
    "# SOLUTION"
   ]
  }
 ],
 "metadata": {
  "kernelspec": {
   "display_name": "Python 3",
   "language": "python",
   "name": "python3"
  },
  "language_info": {
   "codemirror_mode": {
    "name": "ipython",
    "version": 3
   },
   "file_extension": ".py",
   "mimetype": "text/x-python",
   "name": "python",
   "nbconvert_exporter": "python",
   "pygments_lexer": "ipython3",
   "version": "3.7.3"
  }
 },
 "nbformat": 4,
 "nbformat_minor": 2
}
